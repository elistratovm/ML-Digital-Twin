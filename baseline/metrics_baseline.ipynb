{
 "cells": [
  {
   "cell_type": "code",
   "execution_count": 1,
   "metadata": {},
   "outputs": [],
   "source": [
    "from utils import RMSHisteresisEstimator\n",
    "\n",
    "from sklearn.metrics  import accuracy_score\n",
    "import numpy as np\n",
    "import tqdm\n",
    "from sklearn.metrics import classification_report\n",
    "import torch\n",
    "import joblib\n",
    "\n",
    "from utils import custom_metric_torch_batch\n",
    "\n",
    "dataset_root_path = 'D:\\Skoltech\\Thesis\\Calculations/time-series-analysis\\ML_1/dataset'"
   ]
  },
  {
   "cell_type": "code",
   "execution_count": 2,
   "metadata": {},
   "outputs": [],
   "source": [
    "rmshist = RMSHisteresisEstimator()\n",
    "\n"
   ]
  },
  {
   "cell_type": "code",
   "execution_count": 3,
   "metadata": {},
   "outputs": [],
   "source": [
    "data_test = joblib.load(dataset_root_path + \"/test/data-multi-test-fixed.joblib\")\n",
    "labels_test = joblib.load(dataset_root_path + \"/test/labels-multi-test-fixed.joblib\")\n",
    "\n",
    "\n",
    "data_test = np.array(data_test)\n",
    "labels_test = np.array(labels_test)"
   ]
  },
  {
   "cell_type": "code",
   "execution_count": 4,
   "metadata": {},
   "outputs": [
    {
     "data": {
      "text/plain": [
       "array([533345., 567678., 598512., ..., 524497., 551112., 574330.])"
      ]
     },
     "execution_count": 4,
     "metadata": {},
     "output_type": "execute_result"
    }
   ],
   "source": [
    "data_test[0]"
   ]
  },
  {
   "cell_type": "code",
   "execution_count": 5,
   "metadata": {},
   "outputs": [
    {
     "name": "stderr",
     "output_type": "stream",
     "text": [
      "100%|██████████| 1971/1971 [02:07<00:00, 15.49it/s]\n"
     ]
    }
   ],
   "source": [
    "multi_preds = []\n",
    "binary_predictions = []\n",
    "binary_true_labels = []\n",
    "\n",
    "\n",
    "for unit, label in tqdm.tqdm(zip(data_test, labels_test), total=len(data_test)):\n",
    "\n",
    "    binary_true_labels.append(label) #forgot to sum it up\n",
    "    pred = rmshist.predict(\n",
    "        time_series=unit/ 1e3,\n",
    "        activation_current=500,\n",
    "        deactivation_coef=0.95,\n",
    "        )\n",
    "    \n",
    "    multi_preds.append(pred)\n",
    "    binary_predictions.append(pred.sum() > 0)\n",
    "\n",
    "binary_true_labels = [x.sum()>0 for x in binary_true_labels] # sum it up here\n"
   ]
  },
  {
   "cell_type": "code",
   "execution_count": 6,
   "metadata": {},
   "outputs": [
    {
     "name": "stdout",
     "output_type": "stream",
     "text": [
      "Accuracy on binary classification: 42.009%\n",
      "\n",
      "              precision    recall  f1-score   support\n",
      "\n",
      "       False     1.0000    0.0322    0.0623      1181\n",
      "        True     0.4087    1.0000    0.5802       790\n",
      "\n",
      "    accuracy                         0.4201      1971\n",
      "   macro avg     0.7043    0.5161    0.3213      1971\n",
      "weighted avg     0.7630    0.4201    0.2699      1971\n",
      "\n"
     ]
    }
   ],
   "source": [
    "acc = accuracy_score(\n",
    "                                                    y_pred = binary_predictions, \n",
    "                                                    y_true = binary_true_labels)\n",
    "print(f\"Accuracy on binary classification: { acc * 100:.3f}%\\n\")\n",
    "print(classification_report(y_pred = binary_predictions, \n",
    "                                                    y_true = binary_true_labels, digits=4))"
   ]
  },
  {
   "cell_type": "code",
   "execution_count": 7,
   "metadata": {},
   "outputs": [
    {
     "name": "stdout",
     "output_type": "stream",
     "text": [
      "torch.Size([1, 1971, 5601])\n",
      "torch.Size([1, 1971, 5601])\n",
      "Custom Multilabel Score: 24.3262%\n"
     ]
    }
   ],
   "source": [
    "y_true_multi_torch = torch.tensor(labels_test, dtype=torch.float).unsqueeze(0)\n",
    "print(y_true_multi_torch.shape)\n",
    "\n",
    "multi_preds = np.array(multi_preds)\n",
    "y_pred_multi_torch = torch.tensor(multi_preds, dtype=torch.uint8).unsqueeze(0)\n",
    "print(y_pred_multi_torch.shape)\n",
    "\n",
    "\n",
    "\n",
    "print(f'Custom Multilabel Score: {custom_metric_torch_batch(y_pred=y_pred_multi_torch, y_true=y_true_multi_torch).mean()*100:.4f}%')"
   ]
  }
 ],
 "metadata": {
  "kernelspec": {
   "display_name": "Python 3",
   "language": "python",
   "name": "python3"
  },
  "language_info": {
   "codemirror_mode": {
    "name": "ipython",
    "version": 3
   },
   "file_extension": ".py",
   "mimetype": "text/x-python",
   "name": "python",
   "nbconvert_exporter": "python",
   "pygments_lexer": "ipython3",
   "version": "3.11.5"
  }
 },
 "nbformat": 4,
 "nbformat_minor": 2
}
